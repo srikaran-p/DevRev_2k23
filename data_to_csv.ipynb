{
 "cells": [
  {
   "cell_type": "code",
   "execution_count": 1,
   "metadata": {},
   "outputs": [],
   "source": [
    "import json\n",
    "\n",
    "tools_json = json.load(open(\"data/tools.json\",\"r\"))\n",
    "test_json = json.load(open(\"data/test_data.json\",\"r\"))\n",
    "train_json = json.load(open(\"data/train_data.json\",\"r\"))\n"
   ]
  },
  {
   "cell_type": "code",
   "execution_count": null,
   "metadata": {},
   "outputs": [],
   "source": [
    "json.dump(train_json,open(\"data/train_data.json\",\"w\"),indent=4)\n",
    "json.dump(test_json,open(\"data/test_data.json\",\"w\"),indent=4)"
   ]
  },
  {
   "cell_type": "code",
   "execution_count": 2,
   "metadata": {},
   "outputs": [
    {
     "name": "stdout",
     "output_type": "stream",
     "text": [
      "Tools Size: 17\n",
      "Train Size: 192\n",
      "Test Size: 72\n"
     ]
    }
   ],
   "source": [
    "print(\"Tools Size:\",len(tools_json))\n",
    "print(\"Train Size:\", len(train_json))\n",
    "print(\"Test Size:\", len(test_json))"
   ]
  },
  {
   "cell_type": "code",
   "execution_count": 4,
   "metadata": {},
   "outputs": [],
   "source": [
    "import pandas as pd\n",
    "\n",
    "def json_to_csv(tools_json,data_json):\n",
    "\n",
    "    df = pd.DataFrame(columns= ['tools','question','answer'])\n",
    "    for idx,data in enumerate(data_json):\n",
    "\n",
    "        tools = json.dumps(tools_json)\n",
    "        question = data['question']\n",
    "        answer = json.dumps(data['answer'])\n",
    "        df.loc[idx] = [tools,question,answer]\n",
    "    return df\n",
    "\n",
    "json_to_csv(tools_json,train_json).to_csv(\"dataset/train_data.csv\",index=False)\n",
    "json_to_csv(tools_json,test_json).to_csv(\"dataset/test_data.csv\",index=False)\n",
    "json_to_csv(tools_json,train_json+test_json).to_csv(\"dataset/data.csv\",index=False)\n",
    "        "
   ]
  },
  {
   "cell_type": "code",
   "execution_count": 1,
   "metadata": {},
   "outputs": [
    {
     "data": {
      "text/plain": [
       "440"
      ]
     },
     "execution_count": 1,
     "metadata": {},
     "output_type": "execute_result"
    }
   ],
   "source": [
    "import json\n",
    "\n",
    "f = open(\"data/harsh_extra_train_data.json\",\"r\")\n",
    "j = json.load(f)\n",
    "len(j)"
   ]
  },
  {
   "cell_type": "code",
   "execution_count": null,
   "metadata": {},
   "outputs": [],
   "source": [
    "# 207 + 105 + 19"
   ]
  },
  {
   "cell_type": "code",
   "execution_count": 18,
   "metadata": {},
   "outputs": [
    {
     "name": "stdout",
     "output_type": "stream",
     "text": [
      "['Arsh_T5_Commit.json', 'Arsh_Test_Data_0-50.json', 'extra_train_data.json', 'extra_train_data_2.json', 'harsh_extra_train_data.json', 'harsh_test_data_50.json', 'NewTools_MultiTool_tango.json', 'old_test_data.json', 'old_train_data.json', 'rajiv_extra_train_data_2.json', 'rephrased_data_harsh.json', 'rephrased_queries_srikaran.json', 'rephrased_queries_tango.json', 'srikaran_extra_train_data.json']\n"
     ]
    }
   ],
   "source": [
    "import json\n",
    "import os\n",
    "\n",
    "dataset_path = \"data/unstructured dataset/\"\n",
    "files = next(os.walk(dataset_path))[2]\n",
    "print(files)\n",
    "\n",
    "data = []\n",
    "for file in files:\n",
    "\n",
    "    fp = open(os.path.join(dataset_path,file),'r')\n",
    "    j = json.load(fp)\n",
    "    data = data + j\n",
    "\n"
   ]
  },
  {
   "cell_type": "code",
   "execution_count": 12,
   "metadata": {},
   "outputs": [],
   "source": [
    "processed_data = []\n",
    "for d in data:\n",
    "    block ={}\n",
    "    block['question'] = d['question']\n",
    "    block['answer'] = d['answer']\n",
    "    processed_data.append(block)"
   ]
  },
  {
   "cell_type": "code",
   "execution_count": 17,
   "metadata": {},
   "outputs": [
    {
     "data": {
      "text/plain": [
       "3043"
      ]
     },
     "execution_count": 17,
     "metadata": {},
     "output_type": "execute_result"
    }
   ],
   "source": [
    "json.dump(processed_data,open(\"data/all_data.json\",'w'),indent=4)\n",
    "len(processed_data)"
   ]
  },
  {
   "cell_type": "code",
   "execution_count": 15,
   "metadata": {},
   "outputs": [
    {
     "name": "stdout",
     "output_type": "stream",
     "text": [
      "['new_tools.json', 'old_tools.json']\n"
     ]
    },
    {
     "data": {
      "text/plain": [
       "88"
      ]
     },
     "execution_count": 15,
     "metadata": {},
     "output_type": "execute_result"
    }
   ],
   "source": [
    "tool_path = \"data/tools/\"\n",
    "files = next(os.walk(tool_path))[2]\n",
    "print(files)\n",
    "\n",
    "tools = []\n",
    "for file in files:\n",
    "\n",
    "    fp = open(os.path.join(tool_path,file),'r')\n",
    "    j = json.load(fp)\n",
    "    tools = tools + j\n",
    "\n",
    "json.dump(tools,open(\"data/all_tools.json\",'w'),indent=4)\n",
    "len(tools)"
   ]
  },
  {
   "cell_type": "code",
   "execution_count": 16,
   "metadata": {},
   "outputs": [
    {
     "data": {
      "text/plain": [
       "88"
      ]
     },
     "execution_count": 16,
     "metadata": {},
     "output_type": "execute_result"
    }
   ],
   "source": [
    "tools_without_examples = []\n",
    "for tool in tools:\n",
    "\n",
    "    arguments = tool['arguments']\n",
    "    new_arguments = []\n",
    "    for arg in arguments:\n",
    "        arg.pop('example',None)\n",
    "        new_arguments.append(arg)\n",
    "    \n",
    "    tool['arguments'] = new_arguments\n",
    "    tools_without_examples.append(tool)\n",
    "\n",
    "json.dump(tools_without_examples,open(\"data/all_tools_without_examples.json\",'w'),indent=4)\n",
    "len(tools_without_examples)"
   ]
  }
 ],
 "metadata": {
  "kernelspec": {
   "display_name": "Python 3",
   "language": "python",
   "name": "python3"
  },
  "language_info": {
   "codemirror_mode": {
    "name": "ipython",
    "version": 3
   },
   "file_extension": ".py",
   "mimetype": "text/x-python",
   "name": "python",
   "nbconvert_exporter": "python",
   "pygments_lexer": "ipython3",
   "version": "3.11.3"
  },
  "orig_nbformat": 4
 },
 "nbformat": 4,
 "nbformat_minor": 2
}
