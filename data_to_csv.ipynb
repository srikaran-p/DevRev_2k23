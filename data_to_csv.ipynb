{
 "cells": [
  {
   "cell_type": "code",
   "execution_count": null,
   "metadata": {},
   "outputs": [],
   "source": [
    "import json\n",
    "\n",
    "tools_json = json.load(open(\"data/tools.json\",\"r\"))\n",
    "test_json = json.load(open(\"data/test_data.json\",\"r\"))\n",
    "train_json = json.load(open(\"data/train_data.json\",\"r\"))\n"
   ]
  },
  {
   "cell_type": "code",
   "execution_count": 5,
   "metadata": {},
   "outputs": [
    {
     "name": "stdout",
     "output_type": "stream",
     "text": [
      "Tools Size: 17\n",
      "Train Size: 192\n",
      "Test Size: 72\n"
     ]
    }
   ],
   "source": [
    "print(\"Tools Size:\",len(tools_json))\n",
    "print(\"Train Size:\", len(train_json))\n",
    "print(\"Test Size:\", len(test_json))"
   ]
  },
  {
   "cell_type": "code",
   "execution_count": 8,
   "metadata": {},
   "outputs": [],
   "source": [
    "import pandas as pd\n",
    "\n",
    "def json_to_csv(tools_json,data_json):\n",
    "\n",
    "    df = pd.DataFrame(columns= ['id','tools','question','answer'])\n",
    "    for idx,data in enumerate(data_json):\n",
    "\n",
    "        id =\"train_data_\"+str(idx+1)\n",
    "        tools = json.dumps(tools_json)\n",
    "        question = data['question']\n",
    "        answer = json.dumps(data['answer'])\n",
    "        df.loc[idx] = [id,tools,question,answer]\n",
    "    return df\n",
    "\n",
    "json_to_csv(tools_json,train_json).to_csv(\"data/train_data.csv\",index=False)\n",
    "json_to_csv(tools_json,test_json).to_csv(\"data/test_data.csv\",index=False)\n",
    "        "
   ]
  }
 ],
 "metadata": {
  "kernelspec": {
   "display_name": "Python 3",
   "language": "python",
   "name": "python3"
  },
  "language_info": {
   "codemirror_mode": {
    "name": "ipython",
    "version": 3
   },
   "file_extension": ".py",
   "mimetype": "text/x-python",
   "name": "python",
   "nbconvert_exporter": "python",
   "pygments_lexer": "ipython3",
   "version": "3.11.3"
  },
  "orig_nbformat": 4
 },
 "nbformat": 4,
 "nbformat_minor": 2
}
