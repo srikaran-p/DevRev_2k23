{
 "cells": [
  {
   "cell_type": "code",
   "execution_count": 31,
   "metadata": {},
   "outputs": [],
   "source": [
    "import json"
   ]
  },
  {
   "cell_type": "code",
   "execution_count": 21,
   "metadata": {},
   "outputs": [],
   "source": [
    "# read ./squad_style_data/train_data.jsonl\n",
    "data = []\n",
    "with open('./squad_style_data/train_data.jsonl', 'r') as f:\n",
    "    for line in f:\n",
    "        data.append(json.loads(line))\n",
    "        \n",
    "for row in data:\n",
    "    d = {}\n",
    "    d[\"instruction\"] = row[\"context\"] + \"###\" + row[\"question\"]\n",
    "    d['output'] = row['answer']\n",
    "    with open('./mistral_style_data/train_data.jsonl', 'a') as f:\n",
    "        json.dump(d, f)\n",
    "        f.write('\\n')"
   ]
  },
  {
   "cell_type": "code",
   "execution_count": 22,
   "metadata": {},
   "outputs": [],
   "source": [
    "data = []\n",
    "with open('./squad_style_data/dev_data.jsonl', 'r') as f:\n",
    "    for line in f:\n",
    "        data.append(json.loads(line))\n",
    "\n",
    "for row in data:\n",
    "    d = {}\n",
    "    d[\"instruction\"] = row[\"context\"] + \"###\" + row[\"question\"]\n",
    "    d['output'] = row['answer']\n",
    "    with open('./mistral_style_data/dev_data.jsonl', 'a') as f:\n",
    "        json.dump(d, f)\n",
    "        f.write('\\n')"
   ]
  },
  {
   "cell_type": "code",
   "execution_count": 41,
   "metadata": {},
   "outputs": [],
   "source": [
    "data = []\n",
    "with open('./squad_style_data/test_data_with_tools.jsonl', 'r') as f:\n",
    "    for line in f:\n",
    "        data.append(json.loads(line))\n",
    "\n",
    "for row in data:\n",
    "    d = {}\n",
    "    d[\"instruction\"] = row[\"context\"] + \"###\" + row[\"question\"]\n",
    "    d['output'] = row['answer']\n",
    "    d['id'] = row['id']\n",
    "    d['example_type'] = row['example_type']\n",
    "    with open('./mistral_style_data/test_data.jsonl', 'a') as f:\n",
    "        json.dump(d, f)\n",
    "        f.write('\\n')\n",
    "        \n"
   ]
  },
  {
   "cell_type": "code",
   "execution_count": null,
   "metadata": {},
   "outputs": [],
   "source": []
  }
 ],
 "metadata": {
  "kernelspec": {
   "display_name": "llama_finetune",
   "language": "python",
   "name": "python3"
  },
  "language_info": {
   "codemirror_mode": {
    "name": "ipython",
    "version": 3
   },
   "file_extension": ".py",
   "mimetype": "text/x-python",
   "name": "python",
   "nbconvert_exporter": "python",
   "pygments_lexer": "ipython3",
   "version": "3.10.13"
  }
 },
 "nbformat": 4,
 "nbformat_minor": 2
}
